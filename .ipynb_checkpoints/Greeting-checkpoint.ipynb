{
 "cells": [
  {
   "cell_type": "code",
   "execution_count": 1,
   "id": "a5179eac-2a37-4f02-a80d-713a35545045",
   "metadata": {},
   "outputs": [
    {
     "name": "stdin",
     "output_type": "stream",
     "text": [
      "What is your name?  Luke\n",
      "What is your favorite color?  Blue\n"
     ]
    },
    {
     "name": "stdout",
     "output_type": "stream",
     "text": [
      "Hello, Luke! Your favorite color is Blue.\n"
     ]
    }
   ],
   "source": [
    "name = input(\"What is your name? \")\n",
    "favorite_color = input(\"What is your favorite color? \")\n",
    "def greet_user(name, favorite_color):\n",
    "    return f\"Hello, {name}! Your favorite color is {favorite_color}.\"\n",
    "greeting = greet_user(name, favorite_color)\n",
    "print(greeting)\n",
    "print(\"Hello World\")"
   ]
  }
 ],
 "metadata": {
  "kernelspec": {
   "display_name": "Python 3 (ipykernel)",
   "language": "python",
   "name": "python3"
  },
  "language_info": {
   "codemirror_mode": {
    "name": "ipython",
    "version": 3
   },
   "file_extension": ".py",
   "mimetype": "text/x-python",
   "name": "python",
   "nbconvert_exporter": "python",
   "pygments_lexer": "ipython3",
   "version": "3.12.4"
  }
 },
 "nbformat": 4,
 "nbformat_minor": 5
}
